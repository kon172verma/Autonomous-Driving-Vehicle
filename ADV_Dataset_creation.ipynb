{
 "cells": [
  {
   "cell_type": "code",
   "execution_count": 1,
   "metadata": {},
   "outputs": [],
   "source": [
    "# Importing the required libraries.\n",
    "import cv2 as cv\n",
    "import numpy as np\n",
    "\n",
    "import os\n",
    "import zlib\n",
    "import pickle\n",
    "\n",
    "from IPython.display import clear_output"
   ]
  },
  {
   "cell_type": "code",
   "execution_count": 2,
   "metadata": {},
   "outputs": [
    {
     "name": "stdout",
     "output_type": "stream",
     "text": [
      "Created Angles file.\n"
     ]
    }
   ],
   "source": [
    "# Reading the file containing the angle value for each image.\n",
    "file = open('./Raw dataset/Angles.txt')\n",
    "data = file.read().split('\\n')[:-2]\n",
    "images_count = len(data)\n",
    "for i in range(images_count):\n",
    "    data[i] = data[i].split()\n",
    "    data[i] = float(data[i][1])\n",
    "    \n",
    "# Removing certain errors from the angles file.\n",
    "for i in range(1,images_count-1):\n",
    "    if data[i-1]!=0 and data[i+1]!=0 and data[i]==0:\n",
    "        data[i] = (data[i-1]+data[i+1])/2\n",
    "        \n",
    "# Writing the angle values to a file.\n",
    "file = open('Dataset/Angles','wb')\n",
    "pickle.dump(zlib.compress(pickle.dumps(np.array(data),pickle.HIGHEST_PROTOCOL)),file,pickle.HIGHEST_PROTOCOL)    \n",
    "file.close()\n",
    "print('Created Angles file.')"
   ]
  },
  {
   "cell_type": "code",
   "execution_count": 3,
   "metadata": {},
   "outputs": [
    {
     "name": "stdout",
     "output_type": "stream",
     "text": [
      "Processed : 45405/45405\n",
      "Number of partitions made : 5\n"
     ]
    }
   ],
   "source": [
    "# Reading the images and converting them to 200*200 sized images.\n",
    "images = []\n",
    "temp = []\n",
    "for i in range(images_count):\n",
    "    clear_output(wait=True)\n",
    "    print('Processed :', str(i+1)+'/'+str(images_count))\n",
    "    print('Number of partitions made :',len(images)+1)\n",
    "    image = cv.imread('./Raw dataset/Images/'+str(i)+'.jpg')\n",
    "    image = cv.resize(image,(200,200))\n",
    "    temp.append(image)\n",
    "    if (i+1)%10000==0:\n",
    "        images.append(temp)\n",
    "        temp = []\n",
    "images.append(temp)"
   ]
  },
  {
   "cell_type": "code",
   "execution_count": 4,
   "metadata": {},
   "outputs": [
    {
     "name": "stdout",
     "output_type": "stream",
     "text": [
      "Created file 1/5\n",
      "Created file 2/5\n",
      "Created file 3/5\n",
      "Created file 4/5\n",
      "Created file 5/5\n"
     ]
    }
   ],
   "source": [
    "# Writing the partitions into separate files.\n",
    "for i in range(len(images)):\n",
    "    file = open('Dataset/Dataset_Images_'+str(i+1),'wb')\n",
    "    data = images[i]\n",
    "    pickle.dump(zlib.compress(pickle.dumps(np.array(data),pickle.HIGHEST_PROTOCOL)),file,pickle.HIGHEST_PROTOCOL)    \n",
    "    file.close()\n",
    "    print('Created file '+str(i+1)+'/'+str(len(images)))"
   ]
  },
  {
   "cell_type": "code",
   "execution_count": 5,
   "metadata": {},
   "outputs": [
    {
     "name": "stdout",
     "output_type": "stream",
     "text": [
      "(10000, 200, 200, 3)\n",
      "(10000, 200, 200, 3)\n",
      "(10000, 200, 200, 3)\n",
      "(10000, 200, 200, 3)\n",
      "(5405, 200, 200, 3)\n"
     ]
    }
   ],
   "source": [
    "# Printing the shapes of partitions.\n",
    "for i in images:\n",
    "    print(np.array(i).shape)"
   ]
  }
 ],
 "metadata": {
  "kernelspec": {
   "display_name": "Python 3",
   "language": "python",
   "name": "python3"
  },
  "language_info": {
   "codemirror_mode": {
    "name": "ipython",
    "version": 3
   },
   "file_extension": ".py",
   "mimetype": "text/x-python",
   "name": "python",
   "nbconvert_exporter": "python",
   "pygments_lexer": "ipython3",
   "version": "3.7.6"
  }
 },
 "nbformat": 4,
 "nbformat_minor": 4
}
