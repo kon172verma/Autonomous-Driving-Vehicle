{
 "cells": [
  {
   "cell_type": "code",
   "execution_count": 1,
   "metadata": {},
   "outputs": [],
   "source": [
    "# Importing the required libraries.\n",
    "import cv2 as cv\n",
    "import numpy as np\n",
    "import matplotlib.pyplot as plt\n",
    "from IPython.display import clear_output"
   ]
  },
  {
   "cell_type": "code",
   "execution_count": 2,
   "metadata": {},
   "outputs": [],
   "source": [
    "# Reading the predictions file.\n",
    "file = open('predictions.txt')\n",
    "predictions = file.read().split('\\n')\n",
    "file.close()\n",
    "for i in range(len(predictions)):\n",
    "    predictions[i] = predictions[i].split(', ')\n",
    "    predictions[i][1] = float(predictions[i][1])"
   ]
  },
  {
   "cell_type": "code",
   "execution_count": 3,
   "metadata": {},
   "outputs": [
    {
     "name": "stdout",
     "output_type": "stream",
     "text": [
      "Processed : 36950/36950\n"
     ]
    }
   ],
   "source": [
    "# Generating the videos for testing our model.\n",
    "wheel_image = cv.imread('steering_wheel.jpg')[:,:,:3]\n",
    "wheel_image = cv.resize(wheel_image,(100,100))\n",
    "\n",
    "count = 0\n",
    "values = [[6000,6450],[9500,9950],[14000,14450],[21500,21950],[28000,28450],[36500,36950]]\n",
    "\n",
    "for val_min, val_max in values:\n",
    "\n",
    "    count += 1\n",
    "    images = []\n",
    "    for i in range(val_min, val_max):\n",
    "        \n",
    "        predicted_angle = -(predictions[i][1]*180/np.pi)/1.6\n",
    "        M = cv.getRotationMatrix2D((50,50),predicted_angle,1)\n",
    "        wheel = cv.warpAffine(wheel_image,M,(100,100))\n",
    "\n",
    "        image = plt.imread('Raw dataset/Images/'+predictions[i][0])\n",
    "        image = np.vstack([image, np.zeros((50,455,3))])\n",
    "        image[206:306,178:278,:] = wheel\n",
    "\n",
    "        images.append(image.astype(int))\n",
    "        clear_output(wait=True)\n",
    "        print('Processed : '+str(i+1)+'/'+str(val_max))\n",
    "        \n",
    "    out = cv.VideoWriter('Sample_'+str(count)+'.avi',0,15,(455, 306))\n",
    "    for i in range(len(images)):\n",
    "        out.write(images[i].astype('uint8'))\n",
    "    out.release()"
   ]
  }
 ],
 "metadata": {
  "kernelspec": {
   "display_name": "Python 3",
   "language": "python",
   "name": "python3"
  },
  "language_info": {
   "codemirror_mode": {
    "name": "ipython",
    "version": 3
   },
   "file_extension": ".py",
   "mimetype": "text/x-python",
   "name": "python",
   "nbconvert_exporter": "python",
   "pygments_lexer": "ipython3",
   "version": "3.7.6"
  }
 },
 "nbformat": 4,
 "nbformat_minor": 4
}
